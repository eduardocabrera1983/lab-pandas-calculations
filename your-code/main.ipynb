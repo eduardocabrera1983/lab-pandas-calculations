{
 "cells": [
  {
   "cell_type": "markdown",
   "metadata": {},
   "source": [
    "# Challenge 3\n",
    "\n",
    "In this challenge we will work on the `Orders` data set. In your work you will apply the thinking process and workflow we showed you in Challenge 2.\n",
    "\n",
    "You are serving as a Business Intelligence Analyst at the headquarter of an international fashion goods chain store. Your boss today asked you to do two things for her:\n",
    "\n",
    "**First, identify two groups of customers from the data set.** The first group is **VIP Customers** whose **aggregated expenses** at your global chain stores are **above the 95th percentile** (aka. 0.95 quantile). The second group is **Preferred Customers** whose **aggregated expenses** are **between the 75th and 95th percentile**.\n",
    "\n",
    "**Second, identify which country has the most of your VIP customers, and which country has the most of your VIP+Preferred Customers combined.**"
   ]
  },
  {
   "cell_type": "markdown",
   "metadata": {},
   "source": [
    "## Q1: How to identify VIP & Preferred Customers?\n",
    "\n",
    "We start by importing all the required libraries:"
   ]
  },
  {
   "cell_type": "code",
   "execution_count": 10,
   "metadata": {},
   "outputs": [],
   "source": [
    "# import required libraries\n",
    "import numpy as np\n",
    "import pandas as pd"
   ]
  },
  {
   "cell_type": "markdown",
   "metadata": {},
   "source": [
    "Next, extract and import `Orders` dataset into a dataframe variable called `orders`. Print the head of `orders` to overview the data:"
   ]
  },
  {
   "cell_type": "code",
   "execution_count": 11,
   "metadata": {},
   "outputs": [],
   "source": [
    "# your code here\n",
    "orders = pd.read_csv(\"Orders.csv\")"
   ]
  },
  {
   "cell_type": "code",
   "execution_count": 12,
   "metadata": {},
   "outputs": [
    {
     "name": "stdout",
     "output_type": "stream",
     "text": [
      "   Unnamed: 0  InvoiceNo StockCode  year  month  day  hour  \\\n",
      "0           0     536365    85123A  2010     12    3     8   \n",
      "1           1     536365     71053  2010     12    3     8   \n",
      "2           2     536365    84406B  2010     12    3     8   \n",
      "3           3     536365    84029G  2010     12    3     8   \n",
      "4           4     536365    84029E  2010     12    3     8   \n",
      "\n",
      "                           Description  Quantity          InvoiceDate  \\\n",
      "0   white hanging heart t-light holder         6  2010-12-01 08:26:00   \n",
      "1                  white metal lantern         6  2010-12-01 08:26:00   \n",
      "2       cream cupid hearts coat hanger         8  2010-12-01 08:26:00   \n",
      "3  knitted union flag hot water bottle         6  2010-12-01 08:26:00   \n",
      "4       red woolly hottie white heart.         6  2010-12-01 08:26:00   \n",
      "\n",
      "   UnitPrice  CustomerID         Country  amount_spent  \n",
      "0       2.55       17850  United Kingdom         15.30  \n",
      "1       3.39       17850  United Kingdom         20.34  \n",
      "2       2.75       17850  United Kingdom         22.00  \n",
      "3       3.39       17850  United Kingdom         20.34  \n",
      "4       3.39       17850  United Kingdom         20.34  \n"
     ]
    }
   ],
   "source": [
    "print(orders.head())"
   ]
  },
  {
   "cell_type": "markdown",
   "metadata": {},
   "source": [
    "---\n",
    "\n",
    "\"Identify VIP and Preferred Customers\" is the non-technical goal of your boss. You need to translate that goal into technical languages that data analysts use:\n",
    "\n",
    "## How to label customers whose aggregated `amount_spent` is in a given quantile range?\n"
   ]
  },
  {
   "cell_type": "markdown",
   "metadata": {},
   "source": [
    "We break down the main problem into several sub problems:\n",
    "\n",
    "#### Sub Problem 1: How to aggregate the  `amount_spent` for unique customers?\n",
    "\n",
    "#### Sub Problem 2: How to select customers whose aggregated `amount_spent` is in a given quantile range?\n",
    "\n",
    "#### Sub Problem 3: How to label selected customers as \"VIP\" or \"Preferred\"?\n",
    "\n",
    "*Note: If you want to break down the main problem in a different way, please feel free to revise the sub problems above.*\n",
    "\n",
    "Now in the workspace below, tackle each of the sub problems using the iterative problem solving workflow. Insert cells as necessary to write your codes and explain your steps."
   ]
  },
  {
   "cell_type": "code",
   "execution_count": 15,
   "metadata": {},
   "outputs": [
    {
     "name": "stdout",
     "output_type": "stream",
     "text": [
      "      CustomerID  amount_spent\n",
      "0          12346      77183.60\n",
      "1          12347       4310.00\n",
      "2          12348       1797.24\n",
      "3          12349       1757.55\n",
      "4          12350        334.40\n",
      "...          ...           ...\n",
      "4334       18280        180.60\n",
      "4335       18281         80.82\n",
      "4336       18282        178.05\n",
      "4337       18283       2094.88\n",
      "4338       18287       1837.28\n",
      "\n",
      "[4339 rows x 2 columns]\n"
     ]
    }
   ],
   "source": [
    "# your code here\n",
    "#sub problem 1:\n",
    "customer_spending = orders.groupby(\"CustomerID\")[\"amount_spent\"].sum().reset_index()\n",
    "print(customer_spending)\n"
   ]
  },
  {
   "cell_type": "code",
   "execution_count": null,
   "metadata": {},
   "outputs": [],
   "source": [
    "#Sub problem 2:\n",
    "# Calculate quantiles\n",
    "q75 = customer_spending[\"amount_spent\"].quantile(0.75)\n",
    "q95 = customer_spending[\"amount_spent\"].quantile(0.95)\n",
    "\n",
    "# Assign labels based on quantile ranges\n",
    "def label_customer(amount):\n",
    "    if amount >= q95:\n",
    "        return \"VIP\"\n",
    "    elif amount >= q75:\n",
    "        return \"Preferred\"\n",
    "    else:\n",
    "        return \"Regular\"\n",
    "\n",
    "customer_spending[\"label\"] = customer_spending[\"amount_spent\"].apply(label_customer)"
   ]
  },
  {
   "cell_type": "code",
   "execution_count": null,
   "metadata": {},
   "outputs": [
    {
     "name": "stdout",
     "output_type": "stream",
     "text": [
      "      CustomerID  amount_spent label\n",
      "1690       14646     280206.02   VIP\n",
      "4202       18102     259657.30   VIP\n",
      "3729       17450     194550.79   VIP\n",
      "3009       16446     168472.50   VIP\n",
      "1880       14911     143825.06   VIP\n"
     ]
    }
   ],
   "source": [
    "#Subproblem 3:\n",
    "print(customer_spending.sort_values(\"amount_spent\", ascending=False).head())"
   ]
  },
  {
   "cell_type": "markdown",
   "metadata": {},
   "source": [
    "Now we'll leave it to you to solve Q2 & Q3, which you can leverage from your solution for Q1:\n",
    "\n",
    "## Q2: How to identify which country has the most VIP Customers?"
   ]
  },
  {
   "cell_type": "code",
   "execution_count": 25,
   "metadata": {},
   "outputs": [
    {
     "name": "stdout",
     "output_type": "stream",
     "text": [
      "Country\n",
      "United Kingdom     177\n",
      "Germany             10\n",
      "France               9\n",
      "Switzerland          3\n",
      "Australia            2\n",
      "EIRE                 2\n",
      "Portugal             2\n",
      "Japan                2\n",
      "Spain                2\n",
      "Norway               1\n",
      "Denmark              1\n",
      "Cyprus               1\n",
      "Finland              1\n",
      "Singapore            1\n",
      "Netherlands          1\n",
      "Channel Islands      1\n",
      "Sweden               1\n",
      "Name: count, dtype: int64\n",
      "Country with the most VIP customers: United Kingdom (177 VIPs)\n"
     ]
    }
   ],
   "source": [
    "# your code here\n",
    "customer_spending = orders.groupby(\"CustomerID\").agg({\n",
    "    \"amount_spent\": \"sum\",\n",
    "    \"Country\": \"first\"  # Get the first country per customer\n",
    "}).reset_index()\n",
    "\n",
    "\n",
    "vip_threshold = customer_spending[\"amount_spent\"].quantile(0.95)\n",
    "vip_customers = customer_spending[customer_spending[\"amount_spent\"] >= vip_threshold]\n",
    "\n",
    "vip_by_country = vip_customers[\"Country\"].value_counts()\n",
    "print(vip_by_country)\n",
    "\n",
    "top_vip_country = vip_by_country.idxmax()\n",
    "vip_count = vip_by_country.max()\n",
    "\n",
    "print(f\"Country with the most VIP customers: {top_vip_country} ({vip_count} VIPs)\")\n"
   ]
  },
  {
   "cell_type": "markdown",
   "metadata": {},
   "source": [
    "## Q3: How to identify which country has the most VIP+Preferred Customers combined?"
   ]
  },
  {
   "cell_type": "code",
   "execution_count": 31,
   "metadata": {},
   "outputs": [
    {
     "name": "stdout",
     "output_type": "stream",
     "text": [
      "Country with the most VIP + Preferred customers: United Kingdom (932 customers)\n",
      "Top Country: United Kingdom\n",
      "Number of VIP + Preferred Customers: 932\n"
     ]
    }
   ],
   "source": [
    "# your code here\n",
    "# Get the first country per customer\n",
    "customer_spending = orders.groupby(\"CustomerID\").agg({\"amount_spent\": \"sum\",\"Country\": \"first\"}).reset_index()\n",
    "\n",
    "# Combine VIP and Preferred (but avoid double-counting VIPs)\n",
    "preferred_only = preferred_customers[~preferred_customers[\"CustomerID\"].isin(vip_customers[\"CustomerID\"])]\n",
    "\n",
    "# Concatenate both\n",
    "combined_customers = pd.concat([vip_customers, preferred_only])\n",
    "\n",
    "# Count per country\n",
    "combined_by_country = combined_customers[\"Country\"].value_counts()\n",
    "\n",
    "# Get top country\n",
    "top_combined_country = combined_by_country.idxmax()\n",
    "combined_count = combined_by_country.max()\n",
    "\n",
    "print(f\"Country with the most VIP + Preferred customers: {top_combined_country} ({combined_count} customers)\")\n",
    "\n",
    "print(f\"Top Country: {top_combined_country}\")\n",
    "print(f\"Number of VIP + Preferred Customers: {combined_count}\")\n",
    "\n"
   ]
  }
 ],
 "metadata": {
  "kernelspec": {
   "display_name": "Python 3",
   "language": "python",
   "name": "python3"
  },
  "language_info": {
   "codemirror_mode": {
    "name": "ipython",
    "version": 3
   },
   "file_extension": ".py",
   "mimetype": "text/x-python",
   "name": "python",
   "nbconvert_exporter": "python",
   "pygments_lexer": "ipython3",
   "version": "3.13.2"
  }
 },
 "nbformat": 4,
 "nbformat_minor": 2
}
